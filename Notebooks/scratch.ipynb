{
 "cells": [
  {
   "cell_type": "code",
   "execution_count": 1,
   "metadata": {},
   "outputs": [],
   "source": [
    "import os\n",
    "os.chdir('/Users/justintorok/Documents/MATLAB/Nexis')\n",
    "import numpy as np\n",
    "import Python.Nexis as Nx"
   ]
  },
  {
   "cell_type": "code",
   "execution_count": 2,
   "metadata": {},
   "outputs": [],
   "source": [
    "loadinst = Nx.loading_matfiles()\n",
    "endmstuff = loadinst.load_file('eNDM_mousedata.mat')\n",
    "C = endmstuff['Networks'][0,0]['ret']\n"
   ]
  },
  {
   "cell_type": "code",
   "execution_count": 4,
   "metadata": {},
   "outputs": [
    {
     "data": {
      "text/plain": [
       "array([[array(['Lamp5'], dtype='<U5'), array(['Meis2'], dtype='<U5'),\n",
       "        array(['Pvalb'], dtype='<U5'), array(['Serpinf1'], dtype='<U8'),\n",
       "        array(['Sncg'], dtype='<U4'), array(['Sst'], dtype='<U3'),\n",
       "        array(['Vip'], dtype='<U3'), array(['CR'], dtype='<U2'),\n",
       "        array(['L2_3_IT'], dtype='<U7'), array(['L4'], dtype='<U2'),\n",
       "        array(['L5_IT'], dtype='<U5'), array(['L5_PT'], dtype='<U5'),\n",
       "        array(['L6_CT'], dtype='<U5'), array(['L6_IT'], dtype='<U5'),\n",
       "        array(['L6b'], dtype='<U3'), array(['NP'], dtype='<U2'),\n",
       "        array(['Chrna6'], dtype='<U6'), array(['Gad2'], dtype='<U4'),\n",
       "        array(['LGv'], dtype='<U3'), array(['Slc17a6'], dtype='<U7'),\n",
       "        array(['Slc17a7'], dtype='<U7'), array(['Astro'], dtype='<U5'),\n",
       "        array(['Macro'], dtype='<U5'), array(['Oligo'], dtype='<U5'),\n",
       "        array(['Endo'], dtype='<U4')]], dtype=object)"
      ]
     },
     "execution_count": 4,
     "metadata": {},
     "output_type": "execute_result"
    }
   ],
   "source": [
    "testmat = loadinst.load_file('classkey_tasic.mat')\n",
    "classkey_tasic = testmat['classkey_tasic']\n",
    "classkey_tasic"
   ]
  },
  {
   "cell_type": "code",
   "execution_count": 5,
   "metadata": {},
   "outputs": [
    {
     "data": {
      "text/plain": [
       "['Lamp5',\n",
       " 'Meis2',\n",
       " 'Pvalb',\n",
       " 'Serpinf1',\n",
       " 'Sncg',\n",
       " 'Sst',\n",
       " 'Vip',\n",
       " 'CR',\n",
       " 'L2_3_IT',\n",
       " 'L4',\n",
       " 'L5_IT',\n",
       " 'L5_PT',\n",
       " 'L6_CT',\n",
       " 'L6_IT',\n",
       " 'L6b',\n",
       " 'NP',\n",
       " 'Chrna6',\n",
       " 'Gad2',\n",
       " 'LGv',\n",
       " 'Slc17a6',\n",
       " 'Slc17a7',\n",
       " 'Astro',\n",
       " 'Macro',\n",
       " 'Oligo',\n",
       " 'Endo']"
      ]
     },
     "execution_count": 5,
     "metadata": {},
     "output_type": "execute_result"
    }
   ],
   "source": [
    "classkey_tasic = [str(x[0]) for x in classkey_tasic[0]]\n",
    "classkey_tasic"
   ]
  },
  {
   "cell_type": "code",
   "execution_count": null,
   "metadata": {},
   "outputs": [],
   "source": []
  },
  {
   "cell_type": "code",
   "execution_count": null,
   "metadata": {},
   "outputs": [],
   "source": []
  },
  {
   "cell_type": "code",
   "execution_count": null,
   "metadata": {},
   "outputs": [],
   "source": []
  }
 ],
 "metadata": {
  "interpreter": {
   "hash": "e7262e3b2994cd66c7f6f7c7d166ac44108c9a8b95ee41c1899fde056628e692"
  },
  "kernelspec": {
   "display_name": "Python 3.7.12 64-bit ('sbi_env': conda)",
   "language": "python",
   "name": "python3"
  },
  "language_info": {
   "codemirror_mode": {
    "name": "ipython",
    "version": 3
   },
   "file_extension": ".py",
   "mimetype": "text/x-python",
   "name": "python",
   "nbconvert_exporter": "python",
   "pygments_lexer": "ipython3",
   "version": "3.7.12"
  },
  "orig_nbformat": 4
 },
 "nbformat": 4,
 "nbformat_minor": 2
}
