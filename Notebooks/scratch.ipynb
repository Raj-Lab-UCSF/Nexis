{
 "cells": [
  {
   "cell_type": "code",
   "execution_count": 1,
   "metadata": {},
   "outputs": [],
   "source": [
    "import os\n",
    "os.chdir('/Users/justintorok/Documents/MATLAB/Nexis')\n",
    "import numpy as np\n",
    "from scipy.io import savemat\n",
    "import Python.Nexis as Nx"
   ]
  },
  {
   "cell_type": "code",
   "execution_count": 6,
   "metadata": {},
   "outputs": [],
   "source": [
    "loadinst = Nx.loading_matfiles()\n",
    "endmstuff = loadinst.load_file('eNDM_mousedata.mat')\n",
    "C = endmstuff['Networks'][0,0]['ret']\n",
    "C = C / np.max(C[:])\n",
    "endmstuff_kauf = loadinst.load_file('KaufmanDiamond_datasets_dat&seed.mat')\n",
    "data_ds6 = endmstuff_kauf['data426'][0,0]['DS6']\n",
    "seedvec_ds6 = endmstuff_kauf['seed426'][0,0]['DS6']\n",
    "tpts_ds6 = endmstuff_kauf['tpts'][0,0]['DS6'][0]\n",
    "U_null = np.zeros([426,1])\n",
    "alpha_glob = 0.21\n",
    "beta_glob = 2.09\n",
    "gamma_glob = 0.1\n",
    "params_ds6 = [alpha_glob,beta_glob,gamma_glob,0.5,0,0]\n",
    "genedata = loadinst.load_file('Regional_Gene_Data.mat')\n",
    "genedata = genedata['regvgene_mean']\n",
    "U_trem2 = np.reshape(genedata[:,3577],[426,1]) # index from gene_names_trans.mat\n",
    "U_trem2 = U_trem2 / np.mean(U_trem2)\n",
    "U_trem2 = (U_trem2 - np.min(U_trem2)) / (np.max(U_trem2) - np.min(U_trem2))\n",
    "alpha_trem2 = 0.2688\n",
    "beta_trem2 = 1.5750\n",
    "gamma_trem2 = 0.0854\n",
    "b_trem2 = 0.1749\n",
    "p_trem2 = -0.3908\n",
    "params_ds6_trem2 = [alpha_trem2,beta_trem2,gamma_trem2,0.5,b_trem2,p_trem2]"
   ]
  },
  {
   "cell_type": "code",
   "execution_count": 6,
   "metadata": {},
   "outputs": [],
   "source": [
    "Nexis_ds6 = Nx.run_Nexis(C,U_null,seedvec_ds6,tpts_ds6)\n",
    "y_ds6 = Nexis_ds6.simulate_nexis(params_ds6)\n",
    "savemat('y_glob_python.mat',{'y_glob_python':y_ds6})"
   ]
  },
  {
   "cell_type": "code",
   "execution_count": 7,
   "metadata": {},
   "outputs": [],
   "source": [
    "Nexis_ds6_trem2 = Nx.run_Nexis(C,U_trem2,seedvec_ds6,tpts_ds6)\n",
    "y_ds6_trem2 = Nexis_ds6_trem2.simulate_nexis(params_ds6_trem2)\n",
    "savemat('y_trem2_python.mat',{'y_trem2_python':y_ds6_trem2})"
   ]
  },
  {
   "cell_type": "code",
   "execution_count": 23,
   "metadata": {},
   "outputs": [],
   "source": [
    "testmat = loadinst.load_file('classkey_tasic.mat')\n",
    "classkey_tasic = testmat['classkey_tasic']\n",
    "classkey_tasic = [str(x[0]) for x in classkey_tasic[0]]\n"
   ]
  },
  {
   "cell_type": "code",
   "execution_count": 3,
   "metadata": {},
   "outputs": [
    {
     "data": {
      "text/plain": [
       "426.0"
      ]
     },
     "execution_count": 3,
     "metadata": {},
     "output_type": "execute_result"
    }
   ],
   "source": [
    "np.sum(U_trem2)"
   ]
  },
  {
   "cell_type": "code",
   "execution_count": null,
   "metadata": {},
   "outputs": [],
   "source": []
  }
 ],
 "metadata": {
  "interpreter": {
   "hash": "e7262e3b2994cd66c7f6f7c7d166ac44108c9a8b95ee41c1899fde056628e692"
  },
  "kernelspec": {
   "display_name": "Python 3.7.12 64-bit ('sbi_env': conda)",
   "language": "python",
   "name": "python3"
  },
  "language_info": {
   "codemirror_mode": {
    "name": "ipython",
    "version": 3
   },
   "file_extension": ".py",
   "mimetype": "text/x-python",
   "name": "python",
   "nbconvert_exporter": "python",
   "pygments_lexer": "ipython3",
   "version": "3.7.12"
  },
  "orig_nbformat": 4
 },
 "nbformat": 4,
 "nbformat_minor": 2
}
